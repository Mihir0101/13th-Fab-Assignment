{
 "cells": [
  {
   "cell_type": "markdown",
   "id": "a6cce5d9-72c9-4a35-947e-d7df76de1e68",
   "metadata": {},
   "source": [
    "# 13th Fab Assignment"
   ]
  },
  {
   "cell_type": "markdown",
   "id": "edb7ae0a-cc1f-4083-ae14-c27015f4ba4a",
   "metadata": {},
   "source": [
    "----------------------------------------------------------------------------------------------------------------------------------------------------"
   ]
  },
  {
   "cell_type": "markdown",
   "id": "31b7af64-a392-4e11-a694-947f7a7d4f19",
   "metadata": {},
   "source": [
    "Q1. Explain why we have to use the Exception class while creating a Custom Exception."
   ]
  },
  {
   "cell_type": "markdown",
   "id": "e80b545e-c65f-4e6c-a4bd-7f8fae85ed2e",
   "metadata": {},
   "source": [
    "-> First of all we creat a new class for Custom Exception.\n",
    "\n",
    "-> This new class inherites Exception Class in our code.\n",
    "\n",
    "-> That Exception class allow us to creat custom exception that can be raised and caught like any othe exception in python."
   ]
  },
  {
   "cell_type": "markdown",
   "id": "ed8dec45-863a-4180-874b-5e72f1a9fd9d",
   "metadata": {},
   "source": [
    "----------------------------------------------------------------------------------------------------------------------------------------------------"
   ]
  },
  {
   "cell_type": "markdown",
   "id": "6ec5b373-4403-416c-8499-d95d77fbb91c",
   "metadata": {},
   "source": [
    "Q2. Write a python program to print Python Exception Hierarchy."
   ]
  },
  {
   "cell_type": "code",
   "execution_count": 18,
   "id": "ceb73300-1ac2-4509-8826-d45501428c34",
   "metadata": {},
   "outputs": [
    {
     "name": "stdout",
     "output_type": "stream",
     "text": [
      "BaseException\n",
      " Exception\n",
      "  TypeError\n",
      "   FloatOperation\n",
      "   MultipartConversionError\n",
      "  StopAsyncIteration\n",
      "  StopIteration\n",
      "  ImportError\n",
      "   ModuleNotFoundError\n",
      "   ZipImportError\n",
      "  OSError\n",
      "   ConnectionError\n",
      "    BrokenPipeError\n",
      "    ConnectionAbortedError\n",
      "    ConnectionRefusedError\n",
      "    ConnectionResetError\n",
      "     RemoteDisconnected\n",
      "   BlockingIOError\n",
      "   ChildProcessError\n",
      "   FileExistsError\n",
      "   FileNotFoundError\n",
      "   IsADirectoryError\n",
      "   NotADirectoryError\n",
      "   InterruptedError\n",
      "    InterruptedSystemCall\n",
      "   PermissionError\n",
      "   ProcessLookupError\n",
      "   TimeoutError\n",
      "   UnsupportedOperation\n",
      "   itimer_error\n",
      "   herror\n",
      "   gaierror\n",
      "   SSLError\n",
      "    SSLCertVerificationError\n",
      "    SSLZeroReturnError\n",
      "    SSLWantWriteError\n",
      "    SSLWantReadError\n",
      "    SSLSyscallError\n",
      "    SSLEOFError\n",
      "   Error\n",
      "    SameFileError\n",
      "   SpecialFileError\n",
      "   ExecError\n",
      "   ReadError\n",
      "   URLError\n",
      "    HTTPError\n",
      "    ContentTooShortError\n",
      "   BadGzipFile\n",
      "  EOFError\n",
      "   IncompleteReadError\n",
      "  RuntimeError\n",
      "   RecursionError\n",
      "   NotImplementedError\n",
      "    ZMQVersionError\n",
      "    StdinNotImplementedError\n",
      "   _DeadlockError\n",
      "   BrokenBarrierError\n",
      "   BrokenExecutor\n",
      "    BrokenThreadPool\n",
      "   SendfileNotAvailableError\n",
      "   ExtractionError\n",
      "   VariableError\n",
      "  NameError\n",
      "   UnboundLocalError\n",
      "  AttributeError\n",
      "   FrozenInstanceError\n",
      "  SyntaxError\n",
      "   IndentationError\n",
      "    TabError\n",
      "  LookupError\n",
      "   IndexError\n",
      "   KeyError\n",
      "    NoSuchKernel\n",
      "    UnknownBackend\n",
      "   CodecRegistryError\n",
      "  ValueError\n",
      "   UnicodeError\n",
      "    UnicodeEncodeError\n",
      "    UnicodeDecodeError\n",
      "    UnicodeTranslateError\n",
      "   UnsupportedOperation\n",
      "   JSONDecodeError\n",
      "   SSLCertVerificationError\n",
      "   Error\n",
      "   UnsupportedDigestmodError\n",
      "   IllegalMonthError\n",
      "   IllegalWeekdayError\n",
      "   ParserError\n",
      "   ClassNotFound\n",
      "   ClipboardEmpty\n",
      "   MessageDefect\n",
      "    NoBoundaryInMultipartDefect\n",
      "    StartBoundaryNotFoundDefect\n",
      "    CloseBoundaryNotFoundDefect\n",
      "    FirstHeaderLineIsContinuationDefect\n",
      "    MisplacedEnvelopeHeaderDefect\n",
      "    MissingHeaderBodySeparatorDefect\n",
      "    MultipartInvariantViolationDefect\n",
      "    InvalidMultipartContentTransferEncodingDefect\n",
      "    UndecodableBytesDefect\n",
      "    InvalidBase64PaddingDefect\n",
      "    InvalidBase64CharactersDefect\n",
      "    InvalidBase64LengthDefect\n",
      "    HeaderDefect\n",
      "     InvalidHeaderDefect\n",
      "     HeaderMissingRequiredValue\n",
      "     NonPrintableDefect\n",
      "     ObsoleteHeaderDefect\n",
      "     NonASCIILocalPartDefect\n",
      "     InvalidDateDefect\n",
      "   MacroToEdit\n",
      "   InvalidFileException\n",
      "   UnequalIterablesError\n",
      "   InvalidVersion\n",
      "   _InvalidELFFileHeader\n",
      "   InvalidWheelFilename\n",
      "   InvalidSdistFilename\n",
      "   InvalidSpecifier\n",
      "   InvalidMarker\n",
      "   UndefinedComparison\n",
      "   UndefinedEnvironmentName\n",
      "   InvalidRequirement\n",
      "    RequirementParseError\n",
      "   InvalidVersion\n",
      "  AssertionError\n",
      "  ArithmeticError\n",
      "   FloatingPointError\n",
      "   OverflowError\n",
      "   ZeroDivisionError\n",
      "    DivisionByZero\n",
      "    DivisionUndefined\n",
      "   DecimalException\n",
      "    Clamped\n",
      "    Rounded\n",
      "     Underflow\n",
      "     Overflow\n",
      "    Inexact\n",
      "     Underflow\n",
      "     Overflow\n",
      "    Subnormal\n",
      "     Underflow\n",
      "    DivisionByZero\n",
      "    FloatOperation\n",
      "    InvalidOperation\n",
      "     ConversionSyntax\n",
      "     DivisionImpossible\n",
      "     DivisionUndefined\n",
      "     InvalidContext\n",
      "  SystemError\n",
      "   CodecRegistryError\n",
      "  ReferenceError\n",
      "  MemoryError\n",
      "  BufferError\n",
      "  Warning\n",
      "   UserWarning\n",
      "    GetPassWarning\n",
      "    FormatterWarning\n",
      "   EncodingWarning\n",
      "   DeprecationWarning\n",
      "    ProvisionalWarning\n",
      "   PendingDeprecationWarning\n",
      "   SyntaxWarning\n",
      "   RuntimeWarning\n",
      "    ProactorSelectorThreadWarning\n",
      "    UnknownTimezoneWarning\n",
      "    PEP440Warning\n",
      "   FutureWarning\n",
      "    ProvisionalCompleterWarning\n",
      "   ImportWarning\n",
      "   UnicodeWarning\n",
      "   BytesWarning\n",
      "   ResourceWarning\n",
      "   DeprecatedTzFormatWarning\n",
      "   PkgResourcesDeprecationWarning\n",
      "  _OptionError\n",
      "  _Error\n",
      "  error\n",
      "  Verbose\n",
      "  Error\n",
      "  SubprocessError\n",
      "   CalledProcessError\n",
      "   TimeoutExpired\n",
      "  TokenError\n",
      "  StopTokenizing\n",
      "  ClassFoundException\n",
      "  EndOfBlock\n",
      "  TraitError\n",
      "  Error\n",
      "  Error\n",
      "   CancelledError\n",
      "   TimeoutError\n",
      "   InvalidStateError\n",
      "  _GiveupOnSendfile\n",
      "  error\n",
      "  Incomplete\n",
      "  TimeoutError\n",
      "  InvalidStateError\n",
      "  LimitOverrunError\n",
      "  QueueEmpty\n",
      "  QueueFull\n",
      "  Empty\n",
      "  Full\n",
      "  ArgumentError\n",
      "  ZMQBaseError\n",
      "   ZMQError\n",
      "    ContextTerminated\n",
      "    Again\n",
      "    InterruptedSystemCall\n",
      "   ZMQBindError\n",
      "   NotDone\n",
      "  PickleError\n",
      "   PicklingError\n",
      "   UnpicklingError\n",
      "  _Stop\n",
      "  ArgumentError\n",
      "  ArgumentTypeError\n",
      "  ConfigError\n",
      "   ConfigLoaderError\n",
      "    ArgumentError\n",
      "   ConfigFileNotFound\n",
      "  ConfigurableError\n",
      "   MultipleInstanceError\n",
      "  ApplicationError\n",
      "  error\n",
      "  TimeoutError\n",
      "  error\n",
      "  ReturnValueIgnoredError\n",
      "  KeyReuseError\n",
      "  UnknownKeyError\n",
      "  LeakedCallbackError\n",
      "  BadYieldError\n",
      "  ReturnValueIgnoredError\n",
      "  Return\n",
      "  InvalidPortNumber\n",
      "  error\n",
      "  LZMAError\n",
      "  RegistryError\n",
      "  _GiveupOnFastCopy\n",
      "  Error\n",
      "   NoSectionError\n",
      "   DuplicateSectionError\n",
      "   DuplicateOptionError\n",
      "   NoOptionError\n",
      "   InterpolationError\n",
      "    InterpolationMissingOptionError\n",
      "    InterpolationSyntaxError\n",
      "    InterpolationDepthError\n",
      "   ParsingError\n",
      "    MissingSectionHeaderError\n",
      "  NoIPAddresses\n",
      "  BadZipFile\n",
      "  LargeZipFile\n",
      "  BadEntryPoint\n",
      "  NoSuchEntryPoint\n",
      "  DuplicateKernelError\n",
      "  ErrorDuringImport\n",
      "  NotOneValueFound\n",
      "  CannotEval\n",
      "  OptionError\n",
      "  BdbQuit\n",
      "  Restart\n",
      "  ExceptionPexpect\n",
      "   EOF\n",
      "   TIMEOUT\n",
      "  PtyProcessError\n",
      "  FindCmdError\n",
      "  HomeDirError\n",
      "  ProfileDirError\n",
      "  IPythonCoreError\n",
      "   TryNext\n",
      "   UsageError\n",
      "   StdinNotImplementedError\n",
      "  InputRejected\n",
      "  GetoptError\n",
      "  ErrorToken\n",
      "  PrefilterError\n",
      "  AliasError\n",
      "   InvalidAliasError\n",
      "  Error\n",
      "   InterfaceError\n",
      "   DatabaseError\n",
      "    InternalError\n",
      "    OperationalError\n",
      "    ProgrammingError\n",
      "    IntegrityError\n",
      "    DataError\n",
      "    NotSupportedError\n",
      "  Warning\n",
      "  SpaceInInput\n",
      "  DOMException\n",
      "   IndexSizeErr\n",
      "   DomstringSizeErr\n",
      "   HierarchyRequestErr\n",
      "   WrongDocumentErr\n",
      "   InvalidCharacterErr\n",
      "   NoDataAllowedErr\n",
      "   NoModificationAllowedErr\n",
      "   NotFoundErr\n",
      "   NotSupportedErr\n",
      "   InuseAttributeErr\n",
      "   InvalidStateErr\n",
      "   SyntaxErr\n",
      "   InvalidModificationErr\n",
      "   NamespaceErr\n",
      "   InvalidAccessErr\n",
      "   ValidationErr\n",
      "  ValidationError\n",
      "  EditReadOnlyBuffer\n",
      "  _Retry\n",
      "  InvalidLayoutError\n",
      "  HeightIsUnknownError\n",
      "  ParserSyntaxError\n",
      "  InternalParseError\n",
      "  _PositionUpdatingFinished\n",
      "  SimpleGetItemNotFound\n",
      "  UncaughtAttributeError\n",
      "  HasNoContext\n",
      "  ParamIssue\n",
      "  _JediError\n",
      "   InternalError\n",
      "   WrongVersion\n",
      "   RefactoringError\n",
      "  OnErrorLeaf\n",
      "  InvalidPythonEnvironment\n",
      "  MessageError\n",
      "   MessageParseError\n",
      "    HeaderParseError\n",
      "    BoundaryError\n",
      "   MultipartConversionError\n",
      "   CharsetError\n",
      "  Error\n",
      "  HTTPException\n",
      "   NotConnected\n",
      "   InvalidURL\n",
      "   UnknownProtocol\n",
      "   UnknownTransferEncoding\n",
      "   UnimplementedFileMode\n",
      "   IncompleteRead\n",
      "   ImproperConnectionState\n",
      "    CannotSendRequest\n",
      "    CannotSendHeader\n",
      "    ResponseNotReady\n",
      "   BadStatusLine\n",
      "    RemoteDisconnected\n",
      "   LineTooLong\n",
      "  InteractivelyDefined\n",
      "  KillEmbedded\n",
      "  Error\n",
      "   NoSuchProcess\n",
      "    ZombieProcess\n",
      "   AccessDenied\n",
      "   TimeoutExpired\n",
      "  _Ipv6UnsupportedError\n",
      "  QueueEmpty\n",
      "  QueueFull\n",
      "  DebuggerInitializationError\n",
      "  ExpatError\n",
      "  Error\n",
      "   ProtocolError\n",
      "   ResponseError\n",
      "   Fault\n",
      "  ParseBaseException\n",
      "   ParseException\n",
      "   ParseFatalException\n",
      "    ParseSyntaxException\n",
      "  RecursiveGrammarException\n",
      "  ResolutionError\n",
      "   VersionConflict\n",
      "    ContextualVersionConflict\n",
      "   DistributionNotFound\n",
      "   UnknownExtra\n",
      "  _Error\n",
      "  UnableToResolveVariableException\n",
      "  InvalidTypeInArgsException\n",
      " GeneratorExit\n",
      " SystemExit\n",
      " KeyboardInterrupt\n",
      " CancelledError\n",
      " AbortThread\n"
     ]
    }
   ],
   "source": [
    "def print_exception_hierarchy(exception_class, level=0):\n",
    "    print(' ' * level + exception_class.__name__)\n",
    "    for subclass in exception_class.__subclasses__():\n",
    "        print_exception_hierarchy(subclass, level + 1)\n",
    "\n",
    "print_exception_hierarchy(BaseException)\n"
   ]
  },
  {
   "cell_type": "markdown",
   "id": "961540b5-91c1-4d41-9a7f-d2d144f84069",
   "metadata": {},
   "source": [
    "----------------------------------------------------------------------------------------------------------------------------------------------------"
   ]
  },
  {
   "cell_type": "markdown",
   "id": "dcdcaade-ec88-49bd-8e5a-f4c95f83a2ac",
   "metadata": {},
   "source": [
    "Q3. What errors are defined in the ArithmeticError class? Explain any two with an example."
   ]
  },
  {
   "cell_type": "markdown",
   "id": "a3d59e84-8bc8-4c56-9935-6b596c9a83d1",
   "metadata": {},
   "source": [
    "-> The ArithmeticError class that defined the error which occurs during perform arithmetic operations.\n",
    "\n",
    "These are some example of it."
   ]
  },
  {
   "cell_type": "markdown",
   "id": "934f5b6e-f518-4ae7-85b6-6755b38febc6",
   "metadata": {},
   "source": [
    "1. ZeroDivisionError\n",
    "\n",
    "-> This error occurs when you try to divide any number by 0."
   ]
  },
  {
   "cell_type": "code",
   "execution_count": 24,
   "id": "e9209761-bcf5-46c4-84d4-34e92eaa2b34",
   "metadata": {},
   "outputs": [
    {
     "ename": "ZeroDivisionError",
     "evalue": "division by zero",
     "output_type": "error",
     "traceback": [
      "\u001b[0;31m---------------------------------------------------------------------------\u001b[0m",
      "\u001b[0;31mZeroDivisionError\u001b[0m                         Traceback (most recent call last)",
      "Cell \u001b[0;32mIn[24], line 5\u001b[0m\n\u001b[1;32m      3\u001b[0m a\u001b[38;5;241m=\u001b[39m\u001b[38;5;241m9\u001b[39m\n\u001b[1;32m      4\u001b[0m b\u001b[38;5;241m=\u001b[39m\u001b[38;5;241m0\u001b[39m\n\u001b[0;32m----> 5\u001b[0m c\u001b[38;5;241m=\u001b[39m\u001b[43ma\u001b[49m\u001b[38;5;241;43m/\u001b[39;49m\u001b[43mb\u001b[49m\n\u001b[1;32m      6\u001b[0m \u001b[38;5;28mprint\u001b[39m(c)\n",
      "\u001b[0;31mZeroDivisionError\u001b[0m: division by zero"
     ]
    }
   ],
   "source": [
    "# Example\n",
    "\n",
    "a=9\n",
    "b=0\n",
    "c=a/b\n",
    "print(c)"
   ]
  },
  {
   "cell_type": "markdown",
   "id": "fd530cb9-6a52-49df-b450-fd60929e8667",
   "metadata": {},
   "source": [
    "2. Overflow\n",
    "\n",
    "-> This error occurs when you try to perform any operation with too large numbers for computer's memory."
   ]
  },
  {
   "cell_type": "code",
   "execution_count": null,
   "id": "1e7ef9f5-a4ad-4105-b510-76d402123312",
   "metadata": {},
   "outputs": [],
   "source": [
    "# Example\n",
    "\n",
    "import sys\n",
    "\n",
    "a=sys.maxsize\n",
    "b=a*a\n",
    "b"
   ]
  },
  {
   "cell_type": "markdown",
   "id": "dce5d990-e383-467b-8e6a-8ec5c8711927",
   "metadata": {},
   "source": [
    "----------------------------------------------------------------------------------------------------------------------------------------------------"
   ]
  },
  {
   "cell_type": "markdown",
   "id": "79caae34-cacf-45ac-bed2-00f6a79a1899",
   "metadata": {},
   "source": [
    "Q4. Why LookupError class is used? Explain with an example KeyError and IndexError."
   ]
  },
  {
   "cell_type": "markdown",
   "id": "646e3697-c29a-41a9-aacd-99e9e7bde45a",
   "metadata": {},
   "source": [
    "-> The LookupError class in Python is a base class for all lookup-related errors. It is used to indicate that a requested item could not be found in a sequence, mapping, or other collection.\n",
    "\n",
    "In Python, when you try to access an item that does not exist in a collection, the interpreter raises a lookup error. For example, if you try to access a key that doesn't exist in a dictionary, or an index that is out of range in a list, you will get a LookupError exception.\n",
    "\n"
   ]
  },
  {
   "cell_type": "code",
   "execution_count": 27,
   "id": "be3242bb-920b-4af6-b58c-d4860b4f5c12",
   "metadata": {},
   "outputs": [
    {
     "ename": "KeyError",
     "evalue": "'key3'",
     "output_type": "error",
     "traceback": [
      "\u001b[0;31m---------------------------------------------------------------------------\u001b[0m",
      "\u001b[0;31mKeyError\u001b[0m                                  Traceback (most recent call last)",
      "Cell \u001b[0;32mIn[27], line 4\u001b[0m\n\u001b[1;32m      1\u001b[0m \u001b[38;5;66;03m# Keyerror\u001b[39;00m\n\u001b[1;32m      3\u001b[0m d\u001b[38;5;241m=\u001b[39m{\u001b[38;5;124m\"\u001b[39m\u001b[38;5;124mkey1\u001b[39m\u001b[38;5;124m\"\u001b[39m:\u001b[38;5;124m\"\u001b[39m\u001b[38;5;124mvalue1\u001b[39m\u001b[38;5;124m\"\u001b[39m,\u001b[38;5;124m\"\u001b[39m\u001b[38;5;124mkey2\u001b[39m\u001b[38;5;124m\"\u001b[39m:\u001b[38;5;124m\"\u001b[39m\u001b[38;5;124mvalue2\u001b[39m\u001b[38;5;124m\"\u001b[39m}\n\u001b[0;32m----> 4\u001b[0m \u001b[38;5;28mprint\u001b[39m(\u001b[43md\u001b[49m\u001b[43m[\u001b[49m\u001b[38;5;124;43m\"\u001b[39;49m\u001b[38;5;124;43mkey3\u001b[39;49m\u001b[38;5;124;43m\"\u001b[39;49m\u001b[43m]\u001b[49m)\n",
      "\u001b[0;31mKeyError\u001b[0m: 'key3'"
     ]
    }
   ],
   "source": [
    "# Keyerror\n",
    "\n",
    "d={\"key1\":\"value1\",\"key2\":\"value2\"}\n",
    "print(d[\"key3\"])"
   ]
  },
  {
   "cell_type": "code",
   "execution_count": 28,
   "id": "5d1f4cb3-1693-4012-82a0-83000f258a27",
   "metadata": {},
   "outputs": [
    {
     "ename": "IndexError",
     "evalue": "list index out of range",
     "output_type": "error",
     "traceback": [
      "\u001b[0;31m---------------------------------------------------------------------------\u001b[0m",
      "\u001b[0;31mIndexError\u001b[0m                                Traceback (most recent call last)",
      "Cell \u001b[0;32mIn[28], line 4\u001b[0m\n\u001b[1;32m      1\u001b[0m \u001b[38;5;66;03m# Indexerror\u001b[39;00m\n\u001b[1;32m      3\u001b[0m l\u001b[38;5;241m=\u001b[39m[\u001b[38;5;241m1\u001b[39m,\u001b[38;5;241m2\u001b[39m,\u001b[38;5;241m3\u001b[39m,\u001b[38;5;241m4\u001b[39m,\u001b[38;5;241m5\u001b[39m,\u001b[38;5;241m6\u001b[39m,\u001b[38;5;241m7\u001b[39m,\u001b[38;5;241m8\u001b[39m,\u001b[38;5;241m9\u001b[39m,\u001b[38;5;241m10\u001b[39m]\n\u001b[0;32m----> 4\u001b[0m \u001b[43ml\u001b[49m\u001b[43m[\u001b[49m\u001b[38;5;241;43m90\u001b[39;49m\u001b[43m]\u001b[49m\n",
      "\u001b[0;31mIndexError\u001b[0m: list index out of range"
     ]
    }
   ],
   "source": [
    "# Indexerror\n",
    "\n",
    "l=[1,2,3,4,5,6,7,8,9,10]\n",
    "l[90]"
   ]
  },
  {
   "cell_type": "markdown",
   "id": "561abb5b-cefb-40a7-b8ab-a4d2838d306d",
   "metadata": {},
   "source": [
    "----------------------------------------------------------------------------------------------------------------------------------------------------"
   ]
  },
  {
   "cell_type": "markdown",
   "id": "6bb3b4ea-e138-4d17-9eb3-bb777e6471b3",
   "metadata": {},
   "source": [
    "Q5. Explain ImportError. What is ModuleNotFoundError?"
   ]
  },
  {
   "cell_type": "markdown",
   "id": "b25e7afb-cdcb-4489-ac51-aa6a1f13f503",
   "metadata": {},
   "source": [
    "-> An import error occurs when a module or package that is required by a Python program cannot be imported. This can happen for a variety of reasons, such as the module or package not being installed on the system, the module or package being installed but not in the correct location, or the module or package having a syntax or semantic error that prevents it from being imported correctly.\n",
    "\n"
   ]
  },
  {
   "cell_type": "code",
   "execution_count": 29,
   "id": "1016d86b-4d02-4880-9c35-d232265a15bb",
   "metadata": {},
   "outputs": [
    {
     "ename": "ModuleNotFoundError",
     "evalue": "No module named 'something'",
     "output_type": "error",
     "traceback": [
      "\u001b[0;31m---------------------------------------------------------------------------\u001b[0m",
      "\u001b[0;31mModuleNotFoundError\u001b[0m                       Traceback (most recent call last)",
      "Cell \u001b[0;32mIn[29], line 3\u001b[0m\n\u001b[1;32m      1\u001b[0m \u001b[38;5;66;03m# example\u001b[39;00m\n\u001b[0;32m----> 3\u001b[0m \u001b[38;5;28;01mimport\u001b[39;00m \u001b[38;5;21;01msomething\u001b[39;00m\n",
      "\u001b[0;31mModuleNotFoundError\u001b[0m: No module named 'something'"
     ]
    }
   ],
   "source": [
    "# example\n",
    "\n",
    "import something"
   ]
  },
  {
   "cell_type": "markdown",
   "id": "02689904-f6d5-4113-9815-7d9d96ab17e9",
   "metadata": {},
   "source": [
    "#ModuleNotFoundError\n",
    "\n",
    "->ModuleNotFoundError is a Python built-in exception that is raised when a module is not found by the Python interpreter.\n",
    "\n",
    "In Python, modules are files that contain Python code, and they allow you to organize and reuse code. When you import a module, Python looks for the module in a list of directories defined by the sys.path variable. If the module is not found in any of these directories, Python raises a ModuleNotFoundError.\n",
    "\n"
   ]
  },
  {
   "cell_type": "markdown",
   "id": "8ad72e8f-6fb9-41c7-a893-6eec8a7cbc43",
   "metadata": {},
   "source": [
    "----------------------------------------------------------------------------------------------------------------------------------------------------"
   ]
  },
  {
   "cell_type": "markdown",
   "id": "6a919dda-a87e-4507-81fd-d8a1bebf8dbc",
   "metadata": {},
   "source": [
    "Q6. List down some best practices for exception handling in python."
   ]
  },
  {
   "cell_type": "code",
   "execution_count": null,
   "id": "33bd9de3-de98-4c0a-ae3f-e122f22a2e26",
   "metadata": {},
   "outputs": [],
   "source": [
    "# Always try to log your error\n",
    "import logging\n",
    "logging.basicConfig(filename=\"file.log\",level=logging.NOTSET)\n",
    "\n",
    "try:\n",
    "    10/0\n",
    "except ZeroDivisionError as e:\n",
    "    logging.error(\"I am trying to handle ZeroDivisionError{}\".format(e))"
   ]
  },
  {
   "cell_type": "code",
   "execution_count": null,
   "id": "567a42d8-cfcb-4beb-ad63-61fca192aeb5",
   "metadata": {},
   "outputs": [],
   "source": [
    "# Always avoid multiple exception handling\n",
    "\n",
    "try:\n",
    "    10/0\n",
    "except FileNotFoundError as e:\n",
    "    logging.error(\"I am trying to handle FileNotFoundError{}\".format(e))\n",
    "except AttributeError as e:\n",
    "    logging.error(\"I am trying to handle AttributeError{}\".format(e))\n",
    "except ZeroDivisionError as e:\n",
    "    logging.error(\"I am trying to handle ZeroDivisionError{}\".format(e))"
   ]
  },
  {
   "cell_type": "code",
   "execution_count": null,
   "id": "832f3e8d-dd34-4755-be9e-70904e12b05c",
   "metadata": {},
   "outputs": [],
   "source": [
    "# document all the error\n",
    "# clean up all the resources\n",
    "\n",
    "try:\n",
    "    with open(\"testt.txt\",\"w\") as f:\n",
    "        f.write(\"this is my data for store in file.\")\n",
    "except FileNotFoundError as e:\n",
    "    logging.error(\"I am trying to handle FileNotFoundError{}\".format(e))\n",
    "finally:\n",
    "    f.close()"
   ]
  },
  {
   "cell_type": "code",
   "execution_count": null,
   "id": "4726ab7a-a4c7-4e75-aa8b-c9c5d0184033",
   "metadata": {},
   "outputs": [],
   "source": [
    "# Use a specific exception\n",
    "\n",
    "try:\n",
    "    10/0\n",
    "except ZeroDivisionError as e:\n",
    "    print(e)"
   ]
  }
 ],
 "metadata": {
  "kernelspec": {
   "display_name": "Python 3 (ipykernel)",
   "language": "python",
   "name": "python3"
  },
  "language_info": {
   "codemirror_mode": {
    "name": "ipython",
    "version": 3
   },
   "file_extension": ".py",
   "mimetype": "text/x-python",
   "name": "python",
   "nbconvert_exporter": "python",
   "pygments_lexer": "ipython3",
   "version": "3.10.8"
  }
 },
 "nbformat": 4,
 "nbformat_minor": 5
}
